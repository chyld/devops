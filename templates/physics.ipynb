{
 "cells": [
  {
   "cell_type": "markdown",
   "id": "05cd750d-0e37-4117-820a-d3bf6fc7409c",
   "metadata": {},
   "source": [
    "# Imports"
   ]
  },
  {
   "cell_type": "code",
   "execution_count": 1,
   "id": "4b861e7c-1ebd-4cd9-93eb-ecd161fa9230",
   "metadata": {},
   "outputs": [],
   "source": [
    "import numpy as np\n",
    "import pandas as pd\n",
    "import matplotlib.pyplot as plt\n",
    "\n",
    "%matplotlib inline"
   ]
  },
  {
   "cell_type": "markdown",
   "id": "d247215a-792e-4eca-b72e-db1adb47939f",
   "metadata": {},
   "source": [
    "# Physics"
   ]
  },
  {
   "cell_type": "code",
   "execution_count": null,
   "id": "82f7934b-48fe-4854-9773-73c7d4c4bbe4",
   "metadata": {},
   "outputs": [],
   "source": []
  }
 ],
 "metadata": {
  "kernelspec": {
   "display_name": "Python 3 (ipykernel)",
   "language": "python",
   "name": "python3"
  },
  "language_info": {
   "codemirror_mode": {
    "name": "ipython",
    "version": 3
   },
   "file_extension": ".py",
   "mimetype": "text/x-python",
   "name": "python",
   "nbconvert_exporter": "python",
   "pygments_lexer": "ipython3",
   "version": "3.11.4"
  }
 },
 "nbformat": 4,
 "nbformat_minor": 5
}
