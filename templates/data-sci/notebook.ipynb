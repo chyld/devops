{
 "cells": [
  {
   "cell_type": "code",
   "execution_count": null,
   "id": "843067a0-0265-423d-be21-645738285d5b",
   "metadata": {},
   "outputs": [],
   "source": [
    "from datetime import date\n",
    "'Date: ' + date.today().strftime(\"%B %d, %Y\")"
   ]
  },
  {
   "cell_type": "code",
   "execution_count": null,
   "id": "1bcfff04-bdd4-4ac9-b5a3-96d24c9809ee",
   "metadata": {},
   "outputs": [],
   "source": [
    "from IPython import display\n",
    "display.Image(\"images/ds.jpg\", width=250)"
   ]
  },
  {
   "cell_type": "code",
   "execution_count": null,
   "id": "aa2e1159-4209-4c0f-bde0-6132680eff7c",
   "metadata": {},
   "outputs": [],
   "source": [
    "# basics\n",
    "import numpy as np\n",
    "import pandas as pd\n",
    "import scipy.stats as stats\n",
    "\n",
    "# graphing\n",
    "import matplotlib.pyplot as plt\n",
    "import seaborn as sns\n",
    "\n",
    "# preprocessing\n",
    "from sklearn.preprocessing import PolynomialFeatures, StandardScaler, MinMaxScaler\n",
    "\n",
    "# model selection\n",
    "from sklearn.model_selection import train_test_split, KFold, GridSearchCV, cross_val_score\n",
    "\n",
    "# metrics\n",
    "from sklearn.metrics import r2_score, mean_squared_error, accuracy_score, precision_score, recall_score, f1_score\n",
    "\n",
    "# models\n",
    "from sklearn.neighbors import KNeighborsClassifier, KNeighborsRegressor\n",
    "from sklearn.linear_model import LinearRegression, Lasso, Ridge, ElasticNet\n",
    "\n",
    "# enable reload of changed files\n",
    "%load_ext autoreload\n",
    "%autoreload 2\n",
    "\n",
    "# plot inline\n",
    "%matplotlib inline"
   ]
  },
  {
   "cell_type": "markdown",
   "id": "2cebd071-bf92-4797-b140-b9f3b4302bea",
   "metadata": {
    "tags": []
   },
   "source": [
    "### Plotting\n",
    "\n",
    "Click [here](docs/plotting.ipynb) to read the Plotting guide.\n",
    "\n",
    "- [Matplotlib Gallery](https://matplotlib.org/2.0.2/gallery.html)\n",
    "- [Seaborn Gallery](https://seaborn.pydata.org/examples/index.html)\n",
    "- [Plotly Gallery](https://plotly.com/python/)\n",
    "\n",
    "### LaTeX\n",
    "\n",
    "Click [here](docs/latex.pdf) to read the LaTeX guide.\n",
    "\n",
    "Given : $\\pi = 3.14159$ and $e = 2.71828$\n",
    "\n",
    "$$\n",
    "f(x) = x^2\\\\\n",
    "g(x) = \\frac{1}{x}\n",
    "$$\n"
   ]
  },
  {
   "cell_type": "markdown",
   "id": "73f6532c-6f40-492c-81a9-5fc3ddb352e7",
   "metadata": {},
   "source": [
    "### Greek Alphabet"
   ]
  },
  {
   "cell_type": "code",
   "execution_count": null,
   "id": "371ac0e6-f1ef-47b4-a0a1-66d24d8229ca",
   "metadata": {},
   "outputs": [],
   "source": [
    "α, β, γ = 1, 2, 3"
   ]
  },
  {
   "cell_type": "markdown",
   "id": "352a461b-dd5d-4d23-b794-84c3de565567",
   "metadata": {},
   "source": [
    "# Data Science Notebook"
   ]
  },
  {
   "cell_type": "code",
   "execution_count": null,
   "id": "296d420e-fb5b-455f-bf0b-1e2f84e03375",
   "metadata": {},
   "outputs": [],
   "source": []
  },
  {
   "cell_type": "code",
   "execution_count": null,
   "id": "571cce04-96cd-4d5d-9508-3584bb85ccfa",
   "metadata": {},
   "outputs": [],
   "source": []
  },
  {
   "cell_type": "code",
   "execution_count": null,
   "id": "14212988-1aa6-40cc-ace7-bb63f176d1e3",
   "metadata": {},
   "outputs": [],
   "source": []
  }
 ],
 "metadata": {
  "kernelspec": {
   "display_name": "Python 3 (ipykernel)",
   "language": "python",
   "name": "python3"
  },
  "language_info": {
   "codemirror_mode": {
    "name": "ipython",
    "version": 3
   },
   "file_extension": ".py",
   "mimetype": "text/x-python",
   "name": "python",
   "nbconvert_exporter": "python",
   "pygments_lexer": "ipython3",
   "version": "3.10.0"
  }
 },
 "nbformat": 4,
 "nbformat_minor": 5
}
