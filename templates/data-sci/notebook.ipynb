{
 "cells": [
  {
   "cell_type": "markdown",
   "id": "352a461b-dd5d-4d23-b794-84c3de565567",
   "metadata": {},
   "source": [
    "# The Notebook"
   ]
  },
  {
   "cell_type": "code",
   "execution_count": null,
   "id": "571cce04-96cd-4d5d-9508-3584bb85ccfa",
   "metadata": {},
   "outputs": [],
   "source": [
    "%run common.ipy\n",
    "con.rule(\"[bold italic]Notebook is Ready\", style=\"#ff33cc\")"
   ]
  },
  {
   "cell_type": "code",
   "execution_count": null,
   "id": "075df416-89ef-4034-989f-7434097fabbe",
   "metadata": {},
   "outputs": [],
   "source": []
  }
 ],
 "metadata": {
  "kernelspec": {
   "display_name": "Python 3 (ipykernel)",
   "language": "python",
   "name": "python3"
  },
  "language_info": {
   "codemirror_mode": {
    "name": "ipython",
    "version": 3
   },
   "file_extension": ".py",
   "mimetype": "text/x-python",
   "name": "python",
   "nbconvert_exporter": "python",
   "pygments_lexer": "ipython3",
   "version": "3.10.0"
  }
 },
 "nbformat": 4,
 "nbformat_minor": 5
}
