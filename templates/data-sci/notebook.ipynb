{
 "cells": [
  {
   "cell_type": "markdown",
   "id": "7902e3ed-bcd1-42c8-9d1b-673daebb1ea2",
   "metadata": {},
   "source": [
    "# Starter Template"
   ]
  },
  {
   "cell_type": "code",
   "execution_count": null,
   "id": "aa2e1159-4209-4c0f-bde0-6132680eff7c",
   "metadata": {},
   "outputs": [],
   "source": [
    "# python\n",
    "from functools import partial\n",
    "\n",
    "# basics\n",
    "import numpy as np\n",
    "import pandas as pd\n",
    "import scipy.stats as stats\n",
    "\n",
    "# graphing\n",
    "import matplotlib.pyplot as plt\n",
    "import seaborn as sns\n",
    "import plotly.express as px\n",
    "\n",
    "# preprocessing\n",
    "from sklearn.preprocessing import PolynomialFeatures, StandardScaler, MinMaxScaler\n",
    "\n",
    "# model selection\n",
    "from sklearn.model_selection import train_test_split, KFold, GridSearchCV, cross_val_score\n",
    "from sklearn.metrics import (r2_score, mean_squared_error, accuracy_score, precision_score, recall_score,\n",
    "                             f1_score, roc_auc_score, roc_curve, precision_recall_curve, make_scorer)\n",
    "\n",
    "# models\n",
    "from sklearn.neighbors import KNeighborsClassifier, KNeighborsRegressor\n",
    "from sklearn.linear_model import LinearRegression, Lasso, Ridge, ElasticNet, LogisticRegression\n",
    "from sklearn.tree import DecisionTreeClassifier, DecisionTreeRegressor\n",
    "from sklearn.ensemble import RandomForestClassifier, RandomForestRegressor\n",
    "import xgboost\n",
    "\n",
    "# enable reload of changed files\n",
    "%load_ext autoreload\n",
    "%autoreload 2\n",
    "\n",
    "# plot inline\n",
    "%matplotlib inline\n",
    "\n",
    "# make it pretty\n",
    "from rich.console import Console\n",
    "from rich import inspect\n",
    "con = Console()\n",
    "ins = partial(inspect, methods=True)\n",
    "%load_ext rich"
   ]
  },
  {
   "cell_type": "code",
   "execution_count": null,
   "id": "843067a0-0265-423d-be21-645738285d5b",
   "metadata": {},
   "outputs": [],
   "source": [
    "from datetime import date\n",
    "'Date: ' + date.today().strftime(\"%B %d, %Y\")"
   ]
  },
  {
   "cell_type": "code",
   "execution_count": null,
   "id": "1bcfff04-bdd4-4ac9-b5a3-96d24c9809ee",
   "metadata": {},
   "outputs": [],
   "source": [
    "from IPython import display\n",
    "display.Image(\"images/ds.jpg\", width=250)"
   ]
  },
  {
   "cell_type": "code",
   "execution_count": null,
   "id": "a81498e1-ee62-4a40-ab09-dc18811883ba",
   "metadata": {},
   "outputs": [],
   "source": [
    "con.rule(\"[bold italic]Plotting\", style=\"#ff33cc\")"
   ]
  },
  {
   "cell_type": "markdown",
   "id": "a9745a11-f9b5-423a-9b64-00674358ba88",
   "metadata": {
    "jp-MarkdownHeadingCollapsed": true,
    "tags": []
   },
   "source": [
    "Click [here](docs/plotting.ipynb) to read the Plotting guide.\n",
    "\n",
    "- [Matplotlib Gallery](https://matplotlib.org/2.0.2/gallery.html)\n",
    "- [Seaborn Gallery](https://seaborn.pydata.org/examples/index.html)\n",
    "- [Plotly Gallery](https://plotly.com/python/)"
   ]
  },
  {
   "cell_type": "code",
   "execution_count": null,
   "id": "07117682-1654-421e-9f06-2e12636f6a11",
   "metadata": {},
   "outputs": [],
   "source": [
    "con.rule(\"[bold italic]LaTeX\", style=\"#ff33cc\")"
   ]
  },
  {
   "cell_type": "markdown",
   "id": "43d83e09-e073-4e72-8679-25d8c5d4425a",
   "metadata": {
    "jp-MarkdownHeadingCollapsed": true,
    "tags": []
   },
   "source": [
    "Click [here](docs/latex.pdf) to read the LaTeX guide.\n",
    "\n",
    "Given : $\\pi = 3.14159$ and $e = 2.71828$\n",
    "\n",
    "$$\n",
    "f(x) = x^2\\\\\n",
    "g(x) = \\frac{1}{x}\n",
    "$$"
   ]
  },
  {
   "cell_type": "code",
   "execution_count": null,
   "id": "4de717aa-7610-4dad-946e-1001a914f839",
   "metadata": {},
   "outputs": [],
   "source": [
    "con.rule(\"[bold italic]Greek Alphabet\", style=\"#ff33cc\")"
   ]
  },
  {
   "cell_type": "code",
   "execution_count": null,
   "id": "371ac0e6-f1ef-47b4-a0a1-66d24d8229ca",
   "metadata": {},
   "outputs": [],
   "source": [
    "α, β, γ = 1, 2, 3"
   ]
  },
  {
   "cell_type": "code",
   "execution_count": null,
   "id": "6a73f302-a302-4121-96c6-6a27a3968bd4",
   "metadata": {},
   "outputs": [],
   "source": [
    "con.rule(\"[bold italic]Rich Library\", style=\"#ff33cc\")"
   ]
  },
  {
   "cell_type": "markdown",
   "id": "5dcda09e-40e5-4566-bd59-91199368a75c",
   "metadata": {},
   "source": [
    "https://rich.readthedocs.io/en/latest/index.html"
   ]
  },
  {
   "cell_type": "code",
   "execution_count": null,
   "id": "29c5e96a-5749-4c4b-ac08-73bc3ae33213",
   "metadata": {},
   "outputs": [],
   "source": [
    "con.print(\"hello world\", style=\"green underline bold\")"
   ]
  },
  {
   "cell_type": "code",
   "execution_count": null,
   "id": "e6e20283-770f-47c1-b597-af252da04989",
   "metadata": {},
   "outputs": [],
   "source": [
    "def add_plus1(a, b):\n",
    "    x = 1\n",
    "    con.log(\"logging inside fn\", log_locals=True)\n",
    "    return a + b + 1\n",
    "add_plus1(3, 4)"
   ]
  },
  {
   "cell_type": "code",
   "execution_count": null,
   "id": "528604d8-5913-40dd-a07c-7c60b72f5d5a",
   "metadata": {},
   "outputs": [],
   "source": [
    "class Dog:\n",
    "    def __init__(self):\n",
    "        self.a = range(2, 10)\n",
    "        self.b = {1:2}\n",
    "    def bark(self):\n",
    "        pass\n",
    "d = Dog(); d"
   ]
  },
  {
   "cell_type": "code",
   "execution_count": null,
   "id": "50a55e21-c2af-40f6-a20a-ffaf02712432",
   "metadata": {},
   "outputs": [],
   "source": [
    "ins(d)"
   ]
  },
  {
   "cell_type": "markdown",
   "id": "352a461b-dd5d-4d23-b794-84c3de565567",
   "metadata": {},
   "source": [
    "# The Notebook"
   ]
  },
  {
   "cell_type": "code",
   "execution_count": null,
   "id": "571cce04-96cd-4d5d-9508-3584bb85ccfa",
   "metadata": {},
   "outputs": [],
   "source": []
  },
  {
   "cell_type": "code",
   "execution_count": null,
   "id": "901444ae-53b4-41fb-b321-1412a1dd5786",
   "metadata": {},
   "outputs": [],
   "source": []
  },
  {
   "cell_type": "code",
   "execution_count": null,
   "id": "5a547e2e-e65f-45ab-a8f5-3bc5ccce55f3",
   "metadata": {},
   "outputs": [],
   "source": []
  }
 ],
 "metadata": {
  "kernelspec": {
   "display_name": "Python 3 (ipykernel)",
   "language": "python",
   "name": "python3"
  },
  "language_info": {
   "codemirror_mode": {
    "name": "ipython",
    "version": 3
   },
   "file_extension": ".py",
   "mimetype": "text/x-python",
   "name": "python",
   "nbconvert_exporter": "python",
   "pygments_lexer": "ipython3",
   "version": "3.10.0"
  }
 },
 "nbformat": 4,
 "nbformat_minor": 5
}
