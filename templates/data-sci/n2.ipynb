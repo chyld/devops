{
 "cells": [
  {
   "cell_type": "code",
   "execution_count": null,
   "id": "82cc43ed-c4e5-4bdc-98a4-501e3adc3e94",
   "metadata": {},
   "outputs": [],
   "source": [
    "%run common.ipy"
   ]
  },
  {
   "cell_type": "code",
   "execution_count": null,
   "id": "2fabf56a-2de4-4c82-9906-dbfdd03b4016",
   "metadata": {},
   "outputs": [],
   "source": [
    "b = np.arange(10).reshape(5,-1) ** 0.5; b"
   ]
  },
  {
   "cell_type": "code",
   "execution_count": null,
   "id": "2333a621-c070-46ef-95f6-bb2d3cec78f1",
   "metadata": {},
   "outputs": [],
   "source": []
  }
 ],
 "metadata": {
  "kernelspec": {
   "display_name": "Python 3 (ipykernel)",
   "language": "python",
   "name": "python3"
  },
  "language_info": {
   "codemirror_mode": {
    "name": "ipython",
    "version": 3
   },
   "file_extension": ".py",
   "mimetype": "text/x-python",
   "name": "python",
   "nbconvert_exporter": "python",
   "pygments_lexer": "ipython3",
   "version": "3.10.0"
  }
 },
 "nbformat": 4,
 "nbformat_minor": 5
}
