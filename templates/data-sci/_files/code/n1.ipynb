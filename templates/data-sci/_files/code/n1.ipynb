{
 "cells": [
  {
   "cell_type": "code",
   "execution_count": null,
   "id": "ae3ea445-28ca-4f8e-826a-07ad42c896b9",
   "metadata": {},
   "outputs": [],
   "source": [
    "%run common.ipy"
   ]
  },
  {
   "cell_type": "code",
   "execution_count": null,
   "id": "c1df13ba-f867-4d9b-a5cc-8cf28e0af00e",
   "metadata": {},
   "outputs": [],
   "source": [
    "a = np.arange(15).reshape(3,-1); a"
   ]
  },
  {
   "cell_type": "code",
   "execution_count": null,
   "id": "5acf0e92-d6b8-42ed-9d96-000a35dfbb45",
   "metadata": {},
   "outputs": [],
   "source": []
  }
 ],
 "metadata": {
  "kernelspec": {
   "display_name": "Python 3 (ipykernel)",
   "language": "python",
   "name": "python3"
  },
  "language_info": {
   "codemirror_mode": {
    "name": "ipython",
    "version": 3
   },
   "file_extension": ".py",
   "mimetype": "text/x-python",
   "name": "python",
   "nbconvert_exporter": "python",
   "pygments_lexer": "ipython3",
   "version": "3.10.0"
  }
 },
 "nbformat": 4,
 "nbformat_minor": 5
}
