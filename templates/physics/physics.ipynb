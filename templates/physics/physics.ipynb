{
 "cells": [
  {
   "cell_type": "markdown",
   "id": "05cd750d-0e37-4117-820a-d3bf6fc7409c",
   "metadata": {},
   "source": [
    "# Imports"
   ]
  },
  {
   "cell_type": "code",
   "execution_count": 1,
   "id": "4b861e7c-1ebd-4cd9-93eb-ecd161fa9230",
   "metadata": {},
   "outputs": [],
   "source": [
    "import sympy as sp\n",
    "import numpy as np\n",
    "import pandas as pd\n",
    "import matplotlib.pyplot as plt\n",
    "\n",
    "%matplotlib inline"
   ]
  },
  {
   "cell_type": "markdown",
   "id": "d247215a-792e-4eca-b72e-db1adb47939f",
   "metadata": {},
   "source": [
    "# Sympy"
   ]
  },
  {
   "cell_type": "code",
   "execution_count": 2,
   "id": "82f7934b-48fe-4854-9773-73c7d4c4bbe4",
   "metadata": {},
   "outputs": [
    {
     "data": {
      "text/latex": [
       "$\\displaystyle t$"
      ],
      "text/plain": [
       "t"
      ]
     },
     "execution_count": 2,
     "metadata": {},
     "output_type": "execute_result"
    }
   ],
   "source": [
    "t = sp.symbols('t'); t"
   ]
  },
  {
   "cell_type": "code",
   "execution_count": 3,
   "id": "acfe8acf-1117-418d-b16d-1b7a25ff5a89",
   "metadata": {},
   "outputs": [
    {
     "data": {
      "text/latex": [
       "$\\displaystyle 3 t^{2} + 7 t - 10$"
      ],
      "text/plain": [
       "3*t**2 + 7*t - 10"
      ]
     },
     "execution_count": 3,
     "metadata": {},
     "output_type": "execute_result"
    }
   ],
   "source": [
    "equation = 3*t**2 + 7*t - 10; equation"
   ]
  },
  {
   "cell_type": "code",
   "execution_count": 4,
   "id": "7c6b89b9-19ff-4b44-a442-c3f972263936",
   "metadata": {},
   "outputs": [
    {
     "data": {
      "text/plain": [
       "[-10/3, 1]"
      ]
     },
     "execution_count": 4,
     "metadata": {},
     "output_type": "execute_result"
    }
   ],
   "source": [
    "sp.solve(equation, t)"
   ]
  },
  {
   "cell_type": "markdown",
   "id": "cd3f7e8d-aed6-40ce-bc36-31648ba57b35",
   "metadata": {},
   "source": [
    "# Physics"
   ]
  },
  {
   "cell_type": "code",
   "execution_count": null,
   "id": "6a582766-efe2-4651-986a-bd0910293d9b",
   "metadata": {},
   "outputs": [],
   "source": []
  }
 ],
 "metadata": {
  "kernelspec": {
   "display_name": "Python 3 (ipykernel)",
   "language": "python",
   "name": "python3"
  },
  "language_info": {
   "codemirror_mode": {
    "name": "ipython",
    "version": 3
   },
   "file_extension": ".py",
   "mimetype": "text/x-python",
   "name": "python",
   "nbconvert_exporter": "python",
   "pygments_lexer": "ipython3",
   "version": "3.12.4"
  }
 },
 "nbformat": 4,
 "nbformat_minor": 5
}
